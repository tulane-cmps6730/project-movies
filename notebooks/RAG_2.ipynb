{
 "cells": [
  {
   "cell_type": "code",
   "execution_count": null,
   "metadata": {},
   "outputs": [],
   "source": []
  },
  {
   "cell_type": "code",
   "execution_count": 1,
   "metadata": {},
   "outputs": [],
   "source": [
    "# Load the environment variables from the .env file\n",
    "from dotenv import load_dotenv\n",
    "import os\n",
    "from openai import OpenAI\n",
    "load_dotenv()\n",
    "\n",
    "# Access your API key from environment variables\n",
    "openai_api_key = os.getenv('OPENAI_API_KEY')\n",
    "\n",
    "# Initialize the OpenAI client with your API key\n",
    "client = OpenAI(api_key=openai_api_key)"
   ]
  },
  {
   "cell_type": "code",
   "execution_count": null,
   "metadata": {},
   "outputs": [],
   "source": []
  },
  {
   "cell_type": "code",
   "execution_count": null,
   "metadata": {},
   "outputs": [],
   "source": []
  },
  {
   "cell_type": "code",
   "execution_count": null,
   "metadata": {},
   "outputs": [],
   "source": []
  },
  {
   "cell_type": "code",
   "execution_count": null,
   "metadata": {},
   "outputs": [],
   "source": []
  },
  {
   "cell_type": "code",
   "execution_count": 2,
   "metadata": {},
   "outputs": [],
   "source": [
    "import os.path\n",
    "from llama_index.core import (\n",
    "    VectorStoreIndex,\n",
    "    SimpleDirectoryReader,\n",
    "    StorageContext,\n",
    "    load_index_from_storage,\n",
    ")\n",
    "\n",
    "# check if storage already exists\n",
    "PERSIST_DIR = \"./index_storage\"\n",
    "if not os.path.exists(PERSIST_DIR):\n",
    "    # load the documents and create the index\n",
    "    documents = SimpleDirectoryReader(\"data\").load_data()\n",
    "    index = VectorStoreIndex.from_documents(documents)\n",
    "    # store it for later\n",
    "    index.storage_context.persist(persist_dir=PERSIST_DIR)\n",
    "else:\n",
    "    # load the existing index\n",
    "    storage_context = StorageContext.from_defaults(persist_dir=PERSIST_DIR)\n",
    "    index = load_index_from_storage(storage_context)\n",
    "\n",
    "query_engine = index.as_query_engine(similarity_top_k=5)\n"
   ]
  },
  {
   "cell_type": "code",
   "execution_count": 3,
   "metadata": {},
   "outputs": [
    {
     "data": {
      "text/plain": [
       "Response(response='The Mathematics minor requires the completion of specific courses: Calculus I, Calculus II, Calculus III, Linear Algebra, and two or more elective courses at the 3000-level or above. Students have the option to substitute certain courses based on prerequisites and limitations on the level of courses that can be substituted. The total credit hours required for the Mathematics minor are 22.', source_nodes=[NodeWithScore(node=TextNode(id_='09c568a5-5960-43dd-a137-f24e97ea9656', embedding=None, metadata={'file_path': '/Users/gavingalusha/advisor/project-movies/notebooks/RAG_DATA/Mathematics Minor.txt', 'file_name': 'Mathematics Minor.txt', 'file_type': 'text/plain', 'file_size': 1420, 'creation_date': '2024-05-02', 'last_modified_date': '2024-05-02'}, excluded_embed_metadata_keys=['file_name', 'file_type', 'file_size', 'creation_date', 'last_modified_date', 'last_accessed_date'], excluded_llm_metadata_keys=['file_name', 'file_type', 'file_size', 'creation_date', 'last_modified_date', 'last_accessed_date'], relationships={<NodeRelationship.SOURCE: '1'>: RelatedNodeInfo(node_id='d989c77e-50cf-4520-9ed0-ff6cf4c92420', node_type=<ObjectType.DOCUMENT: '4'>, metadata={'file_path': '/Users/gavingalusha/advisor/project-movies/notebooks/RAG_DATA/Mathematics Minor.txt', 'file_name': 'Mathematics Minor.txt', 'file_type': 'text/plain', 'file_size': 1420, 'creation_date': '2024-05-02', 'last_modified_date': '2024-05-02'}, hash='8ee989f8aa36a61309c7888f14df6f0d4fc9081d66b0d882fa1063b050aff3db')}, text='Mathematics Minor Overview Requirements The Mathematics minor offers students majoring in other disciplines the opportunity to develop a strong mathematical background and increase their competitiveness for future jobs or post-baccalaureate studies. A minor in mathematics consists of: Course List Course ID Title Credits MATH\\xa01210 Calculus I 1 4 MATH\\xa01220 Calculus II 2 4 MATH\\xa02210 Calculus III 4 MATH\\xa03090 Linear Algebra 4 Select two or more elective courses at the 3000-level or above 3 6 Total Credit Hours 22 1 MATH\\xa01150 Long Calculus I (3 c.h.) and MATH\\xa01160 Long Calculus II (3 c.h.) may be substituted for MATH\\xa01210 Calculus I (4 c.h.) 2 MATH\\xa01310 Consolidated Calculus (4 c.h.) may be substituted for MATH\\xa01220 Calculus II (4 c.h.) 3 At most one 2000-level course may be substituted for an elective 3000-level course\\n\\nA minor in mathematics consists of: Course List Course ID Title Credits MATH\\xa01210 Calculus I 1 4 MATH\\xa01220 Calculus II 2 4 MATH\\xa02210 Calculus III 4 MATH\\xa03090 Linear Algebra 4 Select two or more elective courses at the 3000-level or above 3 6 Total Credit Hours 22 1 MATH\\xa01150 Long Calculus I (3 c.h.) and MATH\\xa01160 Long Calculus II (3 c.h.) may be substituted for MATH\\xa01210 Calculus I (4 c.h.) 2 MATH\\xa01310 Consolidated Calculus (4 c.h.) may be substituted for MATH\\xa01220 Calculus II (4 c.h.) 3 At most one 2000-level course may be substituted for an elective 3000-level course', start_char_idx=0, end_char_idx=1402, text_template='{metadata_str}\\n\\n{content}', metadata_template='{key}: {value}', metadata_seperator='\\n'), score=0.8944182974734011), NodeWithScore(node=TextNode(id_='5dcdb5c4-0119-45ba-a048-03bc8c7f2670', embedding=None, metadata={'file_path': '/Users/gavingalusha/advisor/project-movies/notebooks/RAG_DATA/Engineering Science Minor.txt', 'file_name': 'Engineering Science Minor.txt', 'file_type': 'text/plain', 'file_size': 4109, 'creation_date': '2024-05-02', 'last_modified_date': '2024-05-02'}, excluded_embed_metadata_keys=['file_name', 'file_type', 'file_size', 'creation_date', 'last_modified_date', 'last_accessed_date'], excluded_llm_metadata_keys=['file_name', 'file_type', 'file_size', 'creation_date', 'last_modified_date', 'last_accessed_date'], relationships={<NodeRelationship.SOURCE: '1'>: RelatedNodeInfo(node_id='2bb378bf-fe49-4886-b8bd-d41d7643a8d1', node_type=<ObjectType.DOCUMENT: '4'>, metadata={'file_path': '/Users/gavingalusha/advisor/project-movies/notebooks/RAG_DATA/Engineering Science Minor.txt', 'file_name': 'Engineering Science Minor.txt', 'file_type': 'text/plain', 'file_size': 4109, 'creation_date': '2024-05-02', 'last_modified_date': '2024-05-02'}, hash='0d1016ab41f4485342ead079ccc7d3c0e5d1c54ea3c67ab3f811b6678ae06230')}, text=\"Engineering Science Minor Overview Requirements Students not majoring in biomedical engineering, chemical engineering, or engineering physics may earn a minor in Engineering Science by completing the Engineering Science minor. Interested students should contact the Associate Dean of the School of Science and Engineering to declare the minor and discuss the requirements. Students not majoring in biomedical, chemical engineering or engineering physics may earn a minor in Engineering Science by completing the following courses: Prerequisite Math and Science Courses Course List Course ID Title Credits MATH\\xa01210 Calculus I 4 MATH\\xa01220 Calculus II 4 MATH\\xa02210 Calculus III 4 MATH\\xa02240 Intro To Applied Math 4 or MATH\\xa04240 Ordinary Differentl Equa PHYS\\xa01310 General Physics I 4 PHYS\\xa01320 General Physics II 4 Not all of the above math courses are required prior to taking 1000-2000 level engineering courses. See individual course descriptions for details. Note: The following courses may be required for some engineering course options: Course List Course ID Title Credits CHEM\\xa01070 & CHEM\\xa01075 General Chemistry I and General Chemistry Lab I 4 CHEM\\xa01080 & CHEM\\xa01085 General Chemistry II and General Chemistry Lab II 4 Engineering Courses Required Course List Course ID Title Credits Select two of the following: 6 ENGP\\xa01410 Statics 3 ENGP\\xa02010 Electric Circuits 3 CENG\\xa02110 Matl & Energy Balances (Additional Prerequisite: CHEM\\xa01070 , 1080 ) 3 CENG\\xa02120 Thermodynamics I 3 ENGP\\xa02430 Mechanics of Materials (Prerequisite: ENGP\\xa01410 ) 3 CENG\\xa02500 Intro To Biotechnology (Additional Prerequisite: CHEM\\xa01070 , 1080 ) 3 ENGP\\xa03120 Materials Science and Engineering (Additional Prerequisite: CHEM\\xa01070 , 1080 ) 3 Select one of the following: 3 BMEN/ENGP 2310 Product & Experimental Design 3 BMEN/ENGP 2020 Comput Concepts & Applic 4 Select two 3000-4000 level electives in either biomedical, chemical engineering or engineering physics 6 Engineering Science Minor with an SSE Major Twenty-four credits in the major may not overlap with the minor. Student must earn a GPA of at least 2.00 in courses counting toward the minor. No courses counting toward a student's first minor will count toward the student's second minor.\\n\\nStudents not majoring in biomedical, chemical engineering or engineering physics may earn a minor in Engineering Science by completing the following courses: Prerequisite Math and Science Courses Course List Course ID Title Credits MATH\\xa01210 Calculus I 4 MATH\\xa01220 Calculus II 4 MATH\\xa02210 Calculus III 4 MATH\\xa02240 Intro To Applied Math 4 or MATH\\xa04240 Ordinary Differentl Equa PHYS\\xa01310 General Physics I 4 PHYS\\xa01320 General Physics II 4 Not all of the above math courses are required prior to taking 1000-2000 level engineering courses. See individual course descriptions for details. Note: The following courses may be required for some engineering course options: Course List Course ID Title Credits CHEM\\xa01070 & CHEM\\xa01075 General Chemistry I and General Chemistry Lab I 4 CHEM\\xa01080 & CHEM\\xa01085 General Chemistry II and General Chemistry Lab II 4 Engineering Courses Required Course List Course ID Title Credits Select two of the following: 6 ENGP\\xa01410 Statics 3 ENGP\\xa02010 Electric Circuits 3 CENG\\xa02110 Matl & Energy Balances (Additional Prerequisite: CHEM\\xa01070 , 1080 ) 3 CENG\\xa02120 Thermodynamics I 3 ENGP\\xa02430 Mechanics of Materials (Prerequisite: ENGP\\xa01410 ) 3 CENG\\xa02500 Intro To Biotechnology (Additional Prerequisite: CHEM\\xa01070 , 1080 ) 3 ENGP\\xa03120 Materials Science and Engineering (Additional Prerequisite: CHEM\\xa01070 , 1080 ) 3 Select one of the following: 3 BMEN/ENGP 2310 Product & Experimental Design 3 BMEN/ENGP 2020 Comput Concepts & Applic 4 Select two 3000-4000 level electives in either biomedical, chemical engineering or engineering physics 6 Engineering Science Minor with an SSE Major Twenty-four credits in the major may not overlap with the minor. Student must earn a GPA of at least 2.00 in courses counting toward the minor. No courses counting toward a student's first minor will count toward the student's second minor.\", start_char_idx=0, end_char_idx=4065, text_template='{metadata_str}\\n\\n{content}', metadata_template='{key}: {value}', metadata_seperator='\\n'), score=0.8689062206010644), NodeWithScore(node=TextNode(id_='c24599de-73cf-4a07-b171-b89ac671678c', embedding=None, metadata={'file_path': '/Users/gavingalusha/advisor/project-movies/notebooks/RAG_DATA/Physics Minor.txt', 'file_name': 'Physics Minor.txt', 'file_type': 'text/plain', 'file_size': 1425, 'creation_date': '2024-05-02', 'last_modified_date': '2024-05-02'}, excluded_embed_metadata_keys=['file_name', 'file_type', 'file_size', 'creation_date', 'last_modified_date', 'last_accessed_date'], excluded_llm_metadata_keys=['file_name', 'file_type', 'file_size', 'creation_date', 'last_modified_date', 'last_accessed_date'], relationships={<NodeRelationship.SOURCE: '1'>: RelatedNodeInfo(node_id='607c807f-b832-4532-b64d-c5a94076e65a', node_type=<ObjectType.DOCUMENT: '4'>, metadata={'file_path': '/Users/gavingalusha/advisor/project-movies/notebooks/RAG_DATA/Physics Minor.txt', 'file_name': 'Physics Minor.txt', 'file_type': 'text/plain', 'file_size': 1425, 'creation_date': '2024-05-02', 'last_modified_date': '2024-05-02'}, hash='66914717dcaf3b141bd6f1f7808594515490d92133a9dd97484e4e2248a16312')}, text='Physics Minor Overview Requirements The object of the Physics Minor is to provide a strong physics component to bolster students typically majoring in other STEM areas, such as Chemistry, Mathematics, Cell and Molecular Biology, and the various Engineering fields.\\xa0 In some cases, students from the Liberal Arts and Social Sciences pursue the Physics Minor to add STEM strength to their degrees. Course List Course ID Title Credits PHYS\\xa01310 General Physics I 4 PHYS\\xa01320 General Physics II 4 Select four physics courses at the 2000-level or above.  At least one must be taken from the following group. 12 PHYS\\xa03010 Theoretical Physics PHYS\\xa03630 Electromagnetic Theory PHYS\\xa03740 Classical Mechanics PHYS\\xa04230 Thermal Physics PHYS\\xa04470 Intro Quantum Mechanics PHYS\\xa04650 Optics Total Credit Hours 20 It should be noted that some of the upper-level physics courses have certain mathematics prerequisites.\\n\\nCourse List Course ID Title Credits PHYS\\xa01310 General Physics I 4 PHYS\\xa01320 General Physics II 4 Select four physics courses at the 2000-level or above.  At least one must be taken from the following group. 12 PHYS\\xa03010 Theoretical Physics PHYS\\xa03630 Electromagnetic Theory PHYS\\xa03740 Classical Mechanics PHYS\\xa04230 Thermal Physics PHYS\\xa04470 Intro Quantum Mechanics PHYS\\xa04650 Optics Total Credit Hours 20 It should be noted that some of the upper-level physics courses have certain mathematics prerequisites.', start_char_idx=0, end_char_idx=1408, text_template='{metadata_str}\\n\\n{content}', metadata_template='{key}: {value}', metadata_seperator='\\n'), score=0.8649430892308958), NodeWithScore(node=TextNode(id_='c245f656-5ba7-409a-a0d1-ad86d500e168', embedding=None, metadata={'file_path': '/Users/gavingalusha/advisor/project-movies/notebooks/RAG_DATA/Mathematics Major.txt', 'file_name': 'Mathematics Major.txt', 'file_type': 'text/plain', 'file_size': 5872, 'creation_date': '2024-05-02', 'last_modified_date': '2024-05-02'}, excluded_embed_metadata_keys=['file_name', 'file_type', 'file_size', 'creation_date', 'last_modified_date', 'last_accessed_date'], excluded_llm_metadata_keys=['file_name', 'file_type', 'file_size', 'creation_date', 'last_modified_date', 'last_accessed_date'], relationships={<NodeRelationship.SOURCE: '1'>: RelatedNodeInfo(node_id='da3c340d-36c2-47af-855e-7548264fcc62', node_type=<ObjectType.DOCUMENT: '4'>, metadata={'file_path': '/Users/gavingalusha/advisor/project-movies/notebooks/RAG_DATA/Mathematics Major.txt', 'file_name': 'Mathematics Major.txt', 'file_type': 'text/plain', 'file_size': 5872, 'creation_date': '2024-05-02', 'last_modified_date': '2024-05-02'}, hash='edebae690cfac8ed82342bd54c99968ec2c9fc46bceb17dc91db01ad70a0a519'), <NodeRelationship.NEXT: '3'>: RelatedNodeInfo(node_id='6f4cdef9-202c-49e9-81be-627f8a462391', node_type=<ObjectType.TEXT: '1'>, metadata={}, hash='9d62bc3c63b34b467e26cab1d546062f1f7b3f76bc08171528d9b9f08814c24c')}, text=\"Mathematics Major Overview Requirements The Mathematics major provides students with the breadth of knowledge required to excel in a variety of careers including medicine, law, finance and technology-related industries. In addition, the mathematics major also provides excellent preparation for those students who want to pursue graduate studies. The flexibility in the curriculum allows students to emphasize core math, applied math, or statistics. A major in mathematics consists of: Course List Course ID Title Credits Core Courses MATH\\xa01210 Calculus I 1 4 MATH\\xa01220 Calculus II 2 4 MATH\\xa02210 Calculus III 4 MATH\\xa03050 Real Analysis I 3 MATH\\xa03090 Linear Algebra 4 Select five elective mathematics courses at the 3000-level or above 3 15 Total Credit Hours 34 1 MATH\\xa01150 Long Calculus I (3 c.h.) and MATH\\xa01160 Long Calculus II (3 c.h.) may be substituted for MATH\\xa01210 Calculus I (4 c.h.) ; 2 MATH\\xa01310 Consolidated Calculus (4 c.h.) may be substituted for MATH\\xa01220 Calculus II (4 c.h.) ; 3 Four additional mathematics courses at the 3000-level or above with the following provisos: At most one 2000-level course may be substituted for an elective 3000-level course At least two courses must be at the 4000-level or above The Senior Seminar ( MATH\\xa03980 and MATH\\xa03990 ) may count as one 4000-level course. Suggested Curriculum Students should enroll in an appropriate calculus course in their first year of study.\\xa0Students with no prior calculus course should normally take MATH\\xa01210 Calculus I (4 c.h.) and MATH\\xa01220 Calculus II (4 c.h.) , while students with one semester of calculus credit (or equivalent knowledge) should take MATH\\xa01310 Consolidated Calculus (4 c.h.) . Students with two semesters of calculus credit should start in MATH\\xa02210 Calculus III (4 c.h.) and contact a mathematics major advisor during the first semester for major program planning advice. \\xa0Students are encouraged to complete the core courses as early as possible in their programs. It is generally recommended to take MATH\\xa03090 Linear Algebra (4 c.h.) before MATH\\xa03050 Real Analysis I (3 c.h.) , but they can be taken concurrently. The MATH\\xa03070 - MATH\\xa03080 sequence provides the foundation for upper-level courses in probability and statistics. The Senior Seminar MATH\\xa03980 - MATH\\xa03990 is strongly recommended for majors who are not completing an honors thesis. Students considering a math major should arrange an appointment with the department Director of Undergraduate Studies early in their program. They will be assigned a major advisor who will advise them on course selection within the major. The major program is designed to provide the student with a solid foundation during the first two years and provide for a variety of programs of study during the junior and senior years. A major program in mathematics can provide a background for both graduate study and work in a variety of areas of the mathematical sciences as well as provide preparation for professional schools such as law, medicine, and business. The major program should be designed as early as possible with the student's goals in mind and with the help of the major advisor.\\n\\nA major in mathematics consists of: Course List Course ID Title Credits Core Courses MATH\\xa01210 Calculus I 1 4 MATH\\xa01220 Calculus II 2 4 MATH\\xa02210 Calculus III 4 MATH\\xa03050 Real Analysis I 3 MATH\\xa03090 Linear Algebra 4 Select five elective mathematics courses at the 3000-level or above 3 15 Total Credit Hours 34 1 MATH\\xa01150 Long Calculus I (3 c.h.) and MATH\\xa01160 Long Calculus II (3 c.h.) may be substituted for MATH\\xa01210 Calculus I (4 c.h.) ; 2 MATH\\xa01310 Consolidated Calculus (4 c.h.) may be substituted for MATH\\xa01220 Calculus II (4 c.h.) ; 3 Four additional mathematics courses at the 3000-level or above with the following provisos: At most one 2000-level course may be substituted for an elective 3000-level course At least two courses must be at the 4000-level or above The Senior Seminar ( MATH\\xa03980 and MATH\\xa03990 ) may count as one 4000-level course.\", start_char_idx=0, end_char_idx=3995, text_template='{metadata_str}\\n\\n{content}', metadata_template='{key}: {value}', metadata_seperator='\\n'), score=0.8638251977461778), NodeWithScore(node=TextNode(id_='693bdc02-aef0-47bf-8262-1833a2884068', embedding=None, metadata={'file_path': '/Users/gavingalusha/advisor/project-movies/notebooks/RAG_DATA/Finance Minor Freeman School of Business.txt', 'file_name': 'Finance Minor Freeman School of Business.txt', 'file_type': 'text/plain', 'file_size': 1291, 'creation_date': '2024-05-02', 'last_modified_date': '2024-05-02'}, excluded_embed_metadata_keys=['file_name', 'file_type', 'file_size', 'creation_date', 'last_modified_date', 'last_accessed_date'], excluded_llm_metadata_keys=['file_name', 'file_type', 'file_size', 'creation_date', 'last_modified_date', 'last_accessed_date'], relationships={<NodeRelationship.SOURCE: '1'>: RelatedNodeInfo(node_id='52557add-b581-4ae3-8aa0-2fc514feae66', node_type=<ObjectType.DOCUMENT: '4'>, metadata={'file_path': '/Users/gavingalusha/advisor/project-movies/notebooks/RAG_DATA/Finance Minor Freeman School of Business.txt', 'file_name': 'Finance Minor Freeman School of Business.txt', 'file_type': 'text/plain', 'file_size': 1291, 'creation_date': '2024-05-02', 'last_modified_date': '2024-05-02'}, hash='aae7b3263276300d62a4428193593f6f337244f4295ccf30f814cabf574fe40f')}, text='Finance Minor (Freeman School of Business) Overview Requirements At the undergraduate level, the Freeman School offers a finance minor for students who are enrolled as business majors. A finance minor can give the student a general understanding of how finance works in all areas of business. To earn the finance minor, students must complete 12 credit hours including one required accounting class (3 credit hours) and three required finance classes (9 credit hours). For additional information about academic minors, see Academic Requirements . Curriculum Course List Course ID Title Credits One Required Accounting Course ( 3 credits) 3 ACCN\\xa03100 Intermediate Accounting I Three Required Finance Courses ( 9 credits) 9 FINE\\xa04100 Advanced Financial Management FINE\\xa04110 Investments in Equities FINE\\xa04120 Analysis of Fixed Income Securities or FINE\\xa04210 Real Estate Planning and Development Total Credit Hours 12\\n\\nCurriculum Course List Course ID Title Credits One Required Accounting Course ( 3 credits) 3 ACCN\\xa03100 Intermediate Accounting I Three Required Finance Courses ( 9 credits) 9 FINE\\xa04100 Advanced Financial Management FINE\\xa04110 Investments in Equities FINE\\xa04120 Analysis of Fixed Income Securities or FINE\\xa04210 Real Estate Planning and Development Total Credit Hours 12', start_char_idx=0, end_char_idx=1281, text_template='{metadata_str}\\n\\n{content}', metadata_template='{key}: {value}', metadata_seperator='\\n'), score=0.85586219607228)], metadata={'09c568a5-5960-43dd-a137-f24e97ea9656': {'file_path': '/Users/gavingalusha/advisor/project-movies/notebooks/RAG_DATA/Mathematics Minor.txt', 'file_name': 'Mathematics Minor.txt', 'file_type': 'text/plain', 'file_size': 1420, 'creation_date': '2024-05-02', 'last_modified_date': '2024-05-02'}, '5dcdb5c4-0119-45ba-a048-03bc8c7f2670': {'file_path': '/Users/gavingalusha/advisor/project-movies/notebooks/RAG_DATA/Engineering Science Minor.txt', 'file_name': 'Engineering Science Minor.txt', 'file_type': 'text/plain', 'file_size': 4109, 'creation_date': '2024-05-02', 'last_modified_date': '2024-05-02'}, 'c24599de-73cf-4a07-b171-b89ac671678c': {'file_path': '/Users/gavingalusha/advisor/project-movies/notebooks/RAG_DATA/Physics Minor.txt', 'file_name': 'Physics Minor.txt', 'file_type': 'text/plain', 'file_size': 1425, 'creation_date': '2024-05-02', 'last_modified_date': '2024-05-02'}, 'c245f656-5ba7-409a-a0d1-ad86d500e168': {'file_path': '/Users/gavingalusha/advisor/project-movies/notebooks/RAG_DATA/Mathematics Major.txt', 'file_name': 'Mathematics Major.txt', 'file_type': 'text/plain', 'file_size': 5872, 'creation_date': '2024-05-02', 'last_modified_date': '2024-05-02'}, '693bdc02-aef0-47bf-8262-1833a2884068': {'file_path': '/Users/gavingalusha/advisor/project-movies/notebooks/RAG_DATA/Finance Minor Freeman School of Business.txt', 'file_name': 'Finance Minor Freeman School of Business.txt', 'file_type': 'text/plain', 'file_size': 1291, 'creation_date': '2024-05-02', 'last_modified_date': '2024-05-02'}})"
      ]
     },
     "execution_count": 3,
     "metadata": {},
     "output_type": "execute_result"
    }
   ],
   "source": [
    "\n",
    "response = query_engine.query(\"What are the math minor requirements?\")\n",
    "response\n"
   ]
  },
  {
   "cell_type": "code",
   "execution_count": null,
   "metadata": {},
   "outputs": [],
   "source": []
  },
  {
   "cell_type": "code",
   "execution_count": 5,
   "metadata": {},
   "outputs": [
    {
     "name": "stdout",
     "output_type": "stream",
     "text": [
      "The math classes required for the major include Calculus I, Calculus II, Calculus III, Real Analysis I, Linear Algebra, and five elective mathematics courses at the 3000-level or above.\n",
      "The elective courses for a Chemistry minor typically include a selection of courses from various departments such as Chemistry, Chemical Engineering, Biology, Mathematics, Physics, and other related fields. Students pursuing a Chemistry minor may have the opportunity to choose from courses such as Analytical Chemistry, Organic Chemistry, Physical Chemistry, Biochemistry, and other specialized topics depending on the specific requirements of the academic institution.\n"
     ]
    }
   ],
   "source": [
    "query_engine = index.as_chat_engine()\n",
    "response = query_engine.chat(\"What math classes are required for the major?\")\n",
    "print(response)\n",
    "\n",
    "response = query_engine.chat(\"Oh interesting, What are some electives for the chemistry minor\")\n",
    "print(response)"
   ]
  },
  {
   "cell_type": "code",
   "execution_count": null,
   "metadata": {},
   "outputs": [],
   "source": []
  },
  {
   "cell_type": "code",
   "execution_count": null,
   "metadata": {},
   "outputs": [],
   "source": []
  }
 ],
 "metadata": {
  "kernelspec": {
   "display_name": "nlp-virtual",
   "language": "python",
   "name": "python3"
  },
  "language_info": {
   "codemirror_mode": {
    "name": "ipython",
    "version": 3
   },
   "file_extension": ".py",
   "mimetype": "text/x-python",
   "name": "python",
   "nbconvert_exporter": "python",
   "pygments_lexer": "ipython3",
   "version": "3.10.9"
  }
 },
 "nbformat": 4,
 "nbformat_minor": 2
}
