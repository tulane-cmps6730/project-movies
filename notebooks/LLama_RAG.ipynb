{
 "cells": [
  {
   "cell_type": "code",
   "execution_count": 3,
   "metadata": {},
   "outputs": [
    {
     "ename": "ModuleNotFoundError",
     "evalue": "No module named 'pyllama'",
     "output_type": "error",
     "traceback": [
      "\u001b[0;31m---------------------------------------------------------------------------\u001b[0m",
      "\u001b[0;31mModuleNotFoundError\u001b[0m                       Traceback (most recent call last)",
      "Cell \u001b[0;32mIn[3], line 2\u001b[0m\n\u001b[1;32m      1\u001b[0m \u001b[38;5;28;01mimport\u001b[39;00m \u001b[38;5;21;01mos\u001b[39;00m\n\u001b[0;32m----> 2\u001b[0m \u001b[38;5;28;01mimport\u001b[39;00m \u001b[38;5;21;01mpyllama\u001b[39;00m\n\u001b[1;32m      3\u001b[0m \u001b[38;5;28;01mfrom\u001b[39;00m \u001b[38;5;21;01msklearn\u001b[39;00m\u001b[38;5;21;01m.\u001b[39;00m\u001b[38;5;21;01mfeature_extraction\u001b[39;00m\u001b[38;5;21;01m.\u001b[39;00m\u001b[38;5;21;01mtext\u001b[39;00m \u001b[38;5;28;01mimport\u001b[39;00m TfidfVectorizer\n\u001b[1;32m      4\u001b[0m \u001b[38;5;28;01mfrom\u001b[39;00m \u001b[38;5;21;01msklearn\u001b[39;00m\u001b[38;5;21;01m.\u001b[39;00m\u001b[38;5;21;01mmetrics\u001b[39;00m\u001b[38;5;21;01m.\u001b[39;00m\u001b[38;5;21;01mpairwise\u001b[39;00m \u001b[38;5;28;01mimport\u001b[39;00m cosine_similarity\n",
      "\u001b[0;31mModuleNotFoundError\u001b[0m: No module named 'pyllama'"
     ]
    }
   ],
   "source": [
    "import os\n",
    "import pyllama\n",
    "from sklearn.feature_extraction.text import TfidfVectorizer\n",
    "from sklearn.metrics.pairwise import cosine_similarity\n",
    "\n",
    "def load_documents(directory):\n",
    "    documents = []\n",
    "    for filename in os.listdir(directory):\n",
    "        filepath = os.path.join(directory, filename)\n",
    "        if os.path.isfile(filepath):\n",
    "            with open(filepath, 'r', encoding='utf-8') as file:\n",
    "                documents.append(file.read())\n",
    "    return documents\n",
    "\n",
    "def retrieve(query, vectorizer, tfidf_matrix, data, top_k=3):\n",
    "    if not data or top_k <= 0:\n",
    "        return []\n",
    "    try:\n",
    "        query_tf = vectorizer.transform([query])\n",
    "        similarities = cosine_similarity(query_tf, tfidf_matrix).flatten()\n",
    "        top_indices = similarities.argsort()[-top_k:][::-1]\n",
    "        return [(data[i], similarities[i]) for i in top_indices]\n",
    "    except Exception as e:\n",
    "        print(f\"An error occurred: {e}\")\n",
    "        return []\n",
    "\n",
    "def answer_question(question, documents, vectorizer, tfidf_matrix, model, tokenizer, top_k=5, max_tokens=150):\n",
    "    retrieved_texts = retrieve(question, vectorizer, tfidf_matrix, documents, top_k=top_k)\n",
    "    context = \" \".join([text for text, _ in retrieved_texts])\n",
    "    if context:\n",
    "        input_ids = tokenizer.encode(f\"Context: {context}\\n\\nQuestion: {question}\", return_tensors=\"pt\")\n",
    "        output_ids = model.generate(input_ids, max_length=max_tokens, num_return_sequences=1, do_sample=True, top_k=50, top_p=0.95, num_beams=1)\n",
    "        answer = tokenizer.decode(output_ids[0], skip_special_tokens=True)\n",
    "        return answer\n",
    "    else:\n",
    "        return \"No relevant context found for the question.\"\n",
    "\n",
    "# Setup\n",
    "documents = load_documents('RAG_DATA')\n",
    "vectorizer = TfidfVectorizer(max_features=10000, stop_words='english')\n",
    "tfidf_matrix = vectorizer.fit_transform(documents)\n",
    "\n",
    "# Load LLaMA model\n",
    "model_path = '/Users/gavingalusha/llama/llama-2-7b-chat'\n",
    "model, tokenizer = pyllama.load_model(model_path)\n",
    "\n",
    "# Answering a question\n",
    "query = \"What are the core required classes for the Chemistry Major?\"\n",
    "answer = answer_question(query, documents, vectorizer, tfidf_matrix, model, tokenizer)\n",
    "print(\"Query:\", query)\n",
    "print(answer)"
   ]
  },
  {
   "cell_type": "code",
   "execution_count": null,
   "metadata": {},
   "outputs": [],
   "source": []
  }
 ],
 "metadata": {
  "kernelspec": {
   "display_name": "nlp-virtual",
   "language": "python",
   "name": "python3"
  },
  "language_info": {
   "codemirror_mode": {
    "name": "ipython",
    "version": 3
   },
   "file_extension": ".py",
   "mimetype": "text/x-python",
   "name": "python",
   "nbconvert_exporter": "python",
   "pygments_lexer": "ipython3",
   "version": "3.10.9"
  }
 },
 "nbformat": 4,
 "nbformat_minor": 2
}
