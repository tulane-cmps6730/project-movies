{
 "cells": [
  {
   "cell_type": "code",
   "execution_count": null,
   "metadata": {},
   "outputs": [],
   "source": [
    "\n"
   ]
  },
  {
   "cell_type": "markdown",
   "metadata": {},
   "source": [
    "Cosine Similarity Of features based off of similarity of descriptions and Mood"
   ]
  },
  {
   "cell_type": "code",
   "execution_count": 18,
   "metadata": {},
   "outputs": [],
   "source": [
    "import pandas as pd\n",
    "\n",
    "\n",
    "df = pd.read_csv('Data/netfix_cleaned.csv')"
   ]
  },
  {
   "cell_type": "code",
   "execution_count": 19,
   "metadata": {},
   "outputs": [],
   "source": [
    "df[\"mood\"] = df[\"mood\"].fillna(\"Unlabeled\")"
   ]
  },
  {
   "cell_type": "code",
   "execution_count": 20,
   "metadata": {},
   "outputs": [],
   "source": [
    "from sklearn.feature_extraction.text import TfidfVectorizer\n",
    "\n",
    "# Initialize two vectorizers\n",
    "vectorizer_desc = TfidfVectorizer(stop_words='english')\n",
    "vectorizer_mood = TfidfVectorizer(stop_words='english')\n",
    "\n",
    "# Fit and transform the data for each feature\n",
    "tfidf_matrix_desc = vectorizer_desc.fit_transform(df['description'])\n",
    "tfidf_matrix_mood = vectorizer_mood.fit_transform(df['mood'])"
   ]
  },
  {
   "cell_type": "code",
   "execution_count": 21,
   "metadata": {},
   "outputs": [],
   "source": [
    "from scipy.sparse import hstack\n",
    "\n",
    "# Combine the TF-IDF matrices\n",
    "tfidf_matrix_combined = hstack([tfidf_matrix_desc, tfidf_matrix_mood])\n"
   ]
  },
  {
   "cell_type": "code",
   "execution_count": 22,
   "metadata": {},
   "outputs": [],
   "source": [
    "from sklearn.metrics.pairwise import cosine_similarity\n",
    "\n",
    "# Calculate cosine similarity\n",
    "cosine_sim = cosine_similarity(tfidf_matrix_combined, tfidf_matrix_combined)\n"
   ]
  },
  {
   "cell_type": "code",
   "execution_count": 25,
   "metadata": {},
   "outputs": [
    {
     "name": "stdout",
     "output_type": "stream",
     "text": [
      "522    An exalted but short-fused surgeon plunges int...\n",
      "20     In the companion to 2013's \"Bombay Talkies,\" f...\n",
      "Name: description, dtype: object\n",
      "No movies found matching the title: asdfl;j\n"
     ]
    }
   ],
   "source": [
    "def recommend_movies(title, df, cosine_sim, top_n=5):\n",
    "    # Find matches\n",
    "    matches = df.index[df['description'].str.contains(title, case=False, na=False)].tolist()\n",
    "    \n",
    "    # Check if any matches were found\n",
    "    if not matches:\n",
    "        return f\"No movies found matching the title: {title}\"\n",
    "    \n",
    "    # Assuming there's at least one match, proceed as before\n",
    "    idx = matches[0]\n",
    "    sim_scores = list(enumerate(cosine_sim[idx]))\n",
    "    sim_scores = sorted(sim_scores, key=lambda x: x[1], reverse=True)\n",
    "    sim_scores = sim_scores[1:top_n+1]  # Get top N matches\n",
    "    movie_indices = [i[0] for i in sim_scores]\n",
    "    return df['description'].iloc[movie_indices]\n",
    "\n",
    "# Test the recommendation system with a valid and invalid title\n",
    "print(recommend_movies(\"Ted\", df, cosine_sim, top_n=2))\n",
    "print(recommend_movies(\"asdfl;j\", df, cosine_sim, top_n=2))\n",
    "\n"
   ]
  },
  {
   "cell_type": "code",
   "execution_count": null,
   "metadata": {},
   "outputs": [],
   "source": []
  }
 ],
 "metadata": {
  "kernelspec": {
   "display_name": "base",
   "language": "python",
   "name": "python3"
  },
  "language_info": {
   "codemirror_mode": {
    "name": "ipython",
    "version": 3
   },
   "file_extension": ".py",
   "mimetype": "text/x-python",
   "name": "python",
   "nbconvert_exporter": "python",
   "pygments_lexer": "ipython3",
   "version": "3.10.9"
  }
 },
 "nbformat": 4,
 "nbformat_minor": 2
}
