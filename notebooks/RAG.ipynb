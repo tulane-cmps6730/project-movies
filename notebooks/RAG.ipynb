{
 "cells": [
  {
   "cell_type": "code",
   "execution_count": null,
   "metadata": {},
   "outputs": [],
   "source": []
  },
  {
   "cell_type": "code",
   "execution_count": null,
   "metadata": {},
   "outputs": [],
   "source": []
  },
  {
   "cell_type": "code",
   "execution_count": 51,
   "metadata": {},
   "outputs": [],
   "source": [
    "import os\n",
    "from openai import OpenAI\n",
    "\n",
    "client = OpenAI(\n",
    "    # This is the default and can be omitted\n",
    "    api_key= os.getenv('OPENAI_API_KEY')\n",
    ")\n",
    "\n",
    "chat_completion = client.chat.completions.create(\n",
    "    messages=[\n",
    "        {\n",
    "            \"role\": \"user\",\n",
    "            \"content\": \"Say this is a test\",\n",
    "        }\n",
    "    ],\n",
    "    model=\"gpt-3.5-turbo\",\n",
    ")"
   ]
  },
  {
   "cell_type": "code",
   "execution_count": 37,
   "metadata": {},
   "outputs": [],
   "source": [
    "from dotenv import load_dotenv\n",
    "import os\n",
    "from openai import OpenAI\n",
    "from sklearn.feature_extraction.text import TfidfVectorizer\n",
    "from sklearn.metrics.pairwise import cosine_similarity\n",
    "\n",
    "# Load the environment variables from the .env file\n",
    "load_dotenv()\n",
    "\n",
    "# Access your API key from environment variables\n",
    "openai_api_key = os.getenv('OPENAI_API_KEY')\n",
    "\n",
    "# Initialize the OpenAI client with your API key\n",
    "client = OpenAI(api_key=openai_api_key)"
   ]
  },
  {
   "cell_type": "code",
   "execution_count": 62,
   "metadata": {},
   "outputs": [],
   "source": [
    "\n",
    "\n",
    "# Function to load documents from a given directory\n",
    "def load_documents(directory):\n",
    "    documents = []\n",
    "    for filename in os.listdir(directory):\n",
    "        filepath = os.path.join(directory, filename)\n",
    "        if os.path.isfile(filepath):\n",
    "            with open(filepath, 'r', encoding='utf-8') as file:\n",
    "                documents.append(file.read())  # Changed from extend to append\n",
    "    return documents"
   ]
  },
  {
   "cell_type": "code",
   "execution_count": 39,
   "metadata": {},
   "outputs": [],
   "source": [
    "# Function to retrieve most similar documents based on a query\n",
    "def retrieve(query, vectorizer, tfidf_matrix, data, top_k=3):\n",
    "    query_tf = vectorizer.transform([query])\n",
    "    similarities = cosine_similarity(query_tf, tfidf_matrix).flatten()\n",
    "    top_indices = similarities.argsort()[-top_k:][::-1]\n",
    "    return [(data[i], similarities[i]) for i in top_indices]"
   ]
  },
  {
   "cell_type": "code",
   "execution_count": 63,
   "metadata": {},
   "outputs": [],
   "source": [
    "\n",
    "\n",
    "\n",
    "\n",
    "# Function to answer questions using retrieved texts\n",
    "def answer_question(question, documents, vectorizer, tfidf_matrix, model, top_k=3, max_tokens=150, stop_sequence=None):\n",
    "    retrieved_texts = retrieve(question, vectorizer, tfidf_matrix, documents, top_k=top_k)\n",
    "    context = \" \".join([text for text, _ in retrieved_texts])\n",
    "    \n",
    "\n",
    "    if context:  # Check if there is any context retrieved\n",
    "        try:\n",
    "            # Create a chat completion using the question and context\n",
    "            response = client.chat.completions.create(\n",
    "                model=model,\n",
    "                messages=[\n",
    "                    {\"role\": \"system\", \"content\": \"Answer the question based on the context below\"},\n",
    "                    {\"role\": \"user\", \"content\": f\"Context: {context}\\n\\nQuestion: {question}\"}\n",
    "                ],\n",
    "                temperature=0,\n",
    "                max_tokens=max_tokens,\n",
    "                stop=stop_sequence,\n",
    "            )\n",
    "            return response.choices[0].message.content.strip()\n",
    "        except Exception as e:\n",
    "            return str(e)\n",
    "    else:\n",
    "        return \"No relevant context found for the question.\"\n",
    "\n",
    "\n"
   ]
  },
  {
   "cell_type": "code",
   "execution_count": 66,
   "metadata": {},
   "outputs": [
    {
     "name": "stdout",
     "output_type": "stream",
     "text": [
      "The core classes for the computer science major at Tulane University are:\n",
      "\n",
      "1. CMPS 1500 - Intro to Computer Science I (4 c.h.)\n",
      "2. CMPS 1600 - Intro to Computer Science II (4 c.h.)\n",
      "3. CMPS 2170 - Intro to Discrete Math (3 c.h.)\n",
      "4. CMPS 2200 - Intro to Algorithms (3 c.h.)\n",
      "5. CMPS 2300 - Intro to Comp Sys & Networking (3 c.h.)\n"
     ]
    }
   ],
   "source": [
    "# Load the documents\n",
    "documents = load_documents('RAG_DATA')\n",
    "# Prepare the vectorizer and fit it to the documents\n",
    "vectorizer = TfidfVectorizer(max_features=10000, stop_words='english')\n",
    "tfidf_matrix = vectorizer.fit_transform(documents)\n",
    "\n",
    "# Example usage of answering a question\n",
    "query = \"What are the core classes for the computer science major?\"\n",
    "model_name = \"gpt-3.5-turbo\"  # You should define your model name as a variable\n",
    "answer = answer_question(query, documents, vectorizer, tfidf_matrix, model=model_name)\n",
    "print(answer)"
   ]
  },
  {
   "cell_type": "code",
   "execution_count": null,
   "metadata": {},
   "outputs": [],
   "source": []
  }
 ],
 "metadata": {
  "kernelspec": {
   "display_name": "nlp-virtual",
   "language": "python",
   "name": "python3"
  },
  "language_info": {
   "codemirror_mode": {
    "name": "ipython",
    "version": 3
   },
   "file_extension": ".py",
   "mimetype": "text/x-python",
   "name": "python",
   "nbconvert_exporter": "python",
   "pygments_lexer": "ipython3",
   "version": "3.10.9"
  }
 },
 "nbformat": 4,
 "nbformat_minor": 2
}
