{
 "cells": [
  {
   "cell_type": "code",
   "execution_count": null,
   "metadata": {},
   "outputs": [],
   "source": []
  },
  {
   "cell_type": "code",
   "execution_count": 1,
   "metadata": {},
   "outputs": [],
   "source": [
    "import pandas as pd\n",
    "df = pd.read_csv(\"Data/Actual_Quarter.csv\")"
   ]
  },
  {
   "cell_type": "code",
   "execution_count": 2,
   "metadata": {},
   "outputs": [],
   "source": [
    "import nltk\n",
    "\n"
   ]
  },
  {
   "cell_type": "code",
   "execution_count": null,
   "metadata": {},
   "outputs": [],
   "source": []
  },
  {
   "cell_type": "code",
   "execution_count": null,
   "metadata": {},
   "outputs": [],
   "source": [
    "\n",
    "\n"
   ]
  },
  {
   "cell_type": "code",
   "execution_count": 3,
   "metadata": {},
   "outputs": [],
   "source": [
    "def chunk_text(text, max_length=510):  # Using 510 to allow space for special tokens\n",
    "    # Tokenize the text into words\n",
    "    words = text.split()\n",
    "    chunks = []\n",
    "    current_chunk = []\n",
    "    current_length = 0\n",
    "    for word in words:\n",
    "        if current_length + len(word.split()) <= max_length:\n",
    "            current_chunk.append(word)\n",
    "            current_length += len(word.split()) + 1  # +1 for the space\n",
    "        else:\n",
    "            chunks.append(' '.join(current_chunk))\n",
    "            current_chunk = [word]\n",
    "            current_length = len(word.split()) + 1\n",
    "    if current_chunk:\n",
    "        chunks.append(' '.join(current_chunk))\n",
    "    return chunks\n"
   ]
  },
  {
   "cell_type": "code",
   "execution_count": 111,
   "metadata": {},
   "outputs": [
    {
     "name": "stdout",
     "output_type": "stream",
     "text": [
      "Summary: N. Miroti misses 2-pt layup from 2 ft K. Love makes 2-pt dunk at rim (assist by L. James) Defensive rebound by K. Love M. Williams makes 2-pt jump shot from 21 ft.\n"
     ]
    }
   ],
   "source": [
    "import re\n",
    "import numpy as np\n",
    "import torch\n",
    "from transformers import DistilBertTokenizer, DistilBertModel\n",
    "from sklearn.decomposition import PCA\n",
    "from sklearn.cluster import MiniBatchKMeans\n",
    "\n",
    "\n",
    "def preprocess(plays):\n",
    "    processed_plays = []\n",
    "    for text in plays:\n",
    "        events = text.split(':')\n",
    "        cleaned_events = [re.sub(r'^\\d+\\s', '', event).strip() for event in events if event]\n",
    "        processed_plays.extend(cleaned_events)\n",
    "    return processed_plays\n",
    "\n",
    "def encode_plays(processed_plays, tokenizer, model, n_components=None):\n",
    "    enc_plays = []\n",
    "    with torch.no_grad():\n",
    "        for play in processed_plays:\n",
    "            inputs = tokenizer(play, return_tensors='pt', padding=True, truncation=True, max_length=512)\n",
    "            outputs = model(**inputs)\n",
    "            embeddings = outputs.last_hidden_state.mean(dim=1).squeeze().numpy()\n",
    "            enc_plays.append(embeddings)\n",
    "    \n",
    "    all_embeddings = np.vstack(enc_plays)\n",
    "    \n",
    "    # Automatically adjust n_components if not set\n",
    "    if n_components is None or n_components > min(all_embeddings.shape):\n",
    "        n_components = min(all_embeddings.shape) - 1\n",
    "    \n",
    "    # Apply PCA only if it makes sense to do so\n",
    "    if n_components > 0:\n",
    "        pca = PCA(n_components=n_components)\n",
    "        reduced_embeddings = pca.fit_transform(all_embeddings)\n",
    "    else:\n",
    "        reduced_embeddings = all_embeddings  # Skip PCA if n_components <= 0\n",
    "    \n",
    "    return reduced_embeddings\n",
    "\n",
    "\n",
    "def cluster_and_summarize(plays, num_clusters=5):\n",
    "    # Ensure number of clusters is within the desired range for summary length\n",
    "    num_clusters = max(4, min(num_clusters, len(plays), 8))  # Limits clusters to 4-8\n",
    "\n",
    "    tokenizer = DistilBertTokenizer.from_pretrained('distilbert-base-uncased')\n",
    "    model = DistilBertModel.from_pretrained('distilbert-base-uncased')  \n",
    "\n",
    "    processed_plays = preprocess(plays)\n",
    "    reduced_embeddings = encode_plays(processed_plays, tokenizer, model, n_components=64)  # Example component reduction\n",
    "    \n",
    "    kmeans = MiniBatchKMeans(n_clusters=num_clusters)\n",
    "    kmeans.fit(reduced_embeddings)\n",
    "    labels = kmeans.labels_\n",
    "    centers = kmeans.cluster_centers_\n",
    "\n",
    "    summary = []\n",
    "    for i in range(num_clusters):\n",
    "        cluster_indices = np.where(labels == i)[0]\n",
    "        if not cluster_indices.size:\n",
    "            continue\n",
    "        cluster_embeddings = [reduced_embeddings[j] for j in cluster_indices]\n",
    "        center = centers[i]\n",
    "        distances = np.linalg.norm(cluster_embeddings - center, axis=1)\n",
    "        closest_index = cluster_indices[np.argmin(distances)]\n",
    "        summary.append(processed_plays[closest_index])\n",
    "\n",
    "    # Further refine the summary if needed\n",
    "    summary = ' '.join(summary).split('. ')[:8]  # Ensure only up to 8 sentences\n",
    "    return '. '.join(summary) + '.' if summary else \"Unable to generate a summary.\"\n",
    "\n",
    "# Example usage\n",
    "plays = [\n",
    "    '695 N. Miroti misses 2-pt layup from 2 ft:694 Defensive rebound by K. Love:683 K. Love makes 2-pt dunk at rim (assist by L. James):671 D. Rose misses 2-pt jump shot from 3 ft (block by T. Mozgov):669 Defensive rebound by T. Mozgov:663 M. Williams makes 2-pt jump shot from 21 ft'\n",
    "]\n",
    "summary = cluster_and_summarize(plays, num_clusters=5)\n",
    "print(\"Summary:\", summary)\n",
    "\n"
   ]
  },
  {
   "cell_type": "markdown",
   "metadata": {},
   "source": []
  },
  {
   "cell_type": "code",
   "execution_count": 113,
   "metadata": {},
   "outputs": [
    {
     "data": {
      "text/plain": [
       "['N. Miroti misses 2pt layup from  ft.  Defensive rebound by K. Love.  K. Love makes 2pt dunk at rim assist by L. James.  D. Rose misses 2pt jump shot from  ft block by T. Mozgov.  Defensive rebound by T. Mozgov.  M. Williams makes 2pt jump shot from  ft.  P. Gasol misses 2pt jump shot from  ft.  Defensive rebound by L. James.  L. James makes 2pt jump shot from  ft.  Personal foul by J. Smith drawn by T. Snell.  N. Miroti misses 2pt layup from  ft.  Offensive rebound by N. Miroti.  N. Miroti makes 2pt layup from  ft.  L. James misses 2pt jump shot from  ft.  Defensive rebound by N. Miroti.  D. Rose makes 2pt layup from  ft.  L. James misses 2pt jump shot from  ft.  Offensive rebound by T. Mozgov.  T. Mozgov makes 2pt layup from  ft.  D. Rose misses 2pt layup from  ft.  Defensive rebound by M. Williams.  L. James makes 2pt dunk at rim assist by M. Williams.  J. Butler misses 2pt jump shot from  ft.  Defensive rebound by K. Love.  K. Love misses 2pt layup from  ft.  Offensive rebound by T. Mozgov.  T. Mozgov misses 2pt layup from  ft.  Offensive rebound by K. Love.  K. Love misses 2pt layup from  ft.  Defensive rebound by Team.  J. Butler makes 2pt dunk at rim assist by N. Miroti.  L. James makes 2pt layup from  ft assist by K. Love.  D. Rose misses 2pt layup from  ft block by M. Williams.  Offensive rebound by Team.  D. Rose misses 3pt jump shot from  ft.  Defensive rebound by L. James.  Turnover by T. Mozgov lost ball.  steal by J. Butler.  J. Butler misses 2pt layup from  ft.  Defensive rebound by L. James.  M. Williams misses 3pt jump shot from  ft.  Offensive rebound by J. Smith.  R. Jefferson enters the game for L. James.  A. Brooks enters the game for D. Rose.  J. Smith misses 3pt jump shot from  ft.  Defensive rebound by J. Butler.  N. Miroti makes 3pt jump shot from  ft assist by J. Butler.  R. Jefferson makes 3pt jump shot from  ft assist by M. Williams.  N. Miroti makes 3pt jump shot from  ft.  T. Mozgov misses 2pt hook shot from  ft block by P. Gasol.  Offensive rebound by Team.  Chicago full timeout.  T. Thompson enters the game for T. Mozgov.  D. McDermott enters the game for T. Snell.  J. Noah enters the game for P. Gasol.  Personal foul by N. Miroti drawn by K. Love.  E. Moore enters the game for J. Butler.  K. Love misses 3pt jump shot from  ft.  Defensive rebound by A. Brooks.  E. Moore misses 3pt jump shot from  ft.  Defensive rebound by M. Williams.  M. Williams misses 2pt jump shot from  ft.  Defensive rebound by E. Moore.  N. Miroti makes free throw  of .  N. Miroti makes 2pt dunk at rim assist by E. Moore.  Shooting foul by R. Jefferson drawn by N. Miroti.  T. Thompson misses 2pt jump shot from  ft.  Offensive rebound by K. Love.  K. Love misses 2pt layup at rim.  Defensive rebound by J. Noah.  Turnover by N. Miroti bad pass.  steal by T. Thompson.  Turnover by T. Thompson lost ball.  steal by J. Noah.  E. Moore makes 2pt jump shot from  ft.  Personal foul by E. Moore drawn by T. Thompson.  M. Dellavedova enters the game for M. Williams.  M. Dellavedova misses 2pt jump shot from  ft.  Defensive rebound by J. Noah.  J. Jones enters the game for K. Love.  T. Gibson enters the game for N. Miroti.  A. Brooks misses 2pt jump shot from  ft.  Defensive rebound by T. Thompson.  T. Thompson misses 2pt hook shot from  ft.  Defensive rebound by D. McDermott.  T. Gibson misses 2pt jump shot from  ft.  Offensive rebound by J. Noah.  Personal foul by J. Smith drawn by J. Noah.  L. James enters the game for J. Smith.  T. Snell enters the game for D. McDermott.  T. Snell misses 2pt jump shot from  ft.  Defensive rebound by L. James.  L. James misses 2pt jump shot from  ft.  Defensive rebound by Team.  Cleveland full timeout.  D. Rose enters the game for A. Brooks.  J. Butler enters the game for E. Moore.  Personal foul by J. Jones drawn by J. Noah.  J. Cunningham enters the game for R. Jefferson.  T. Gibson makes free throw  of .  Personal foul by R. Jefferson drawn by T. Gibson.  Offensive rebound by Team.  T. Gibson misses free throw  of .  J. Jones misses 3pt jump shot from  ft.  Defensive rebound by J. Butler.  Personal foul by T. Thompson drawn by J. Butler.  J. Butler makes free throw  of .  E. Moore enters the game for T. Snell.  J. Butler makes free throw  of .  J. Jones misses 3pt jump shot from  ft.  Defensive rebound by J. Butler.  Personal foul by L. James drawn by T. Gibson.  T. Gibson makes free throw  of .  T. Gibson makes free throw  of .  Offensive rebound by T. Gibson.  D. Rose misses 2pt jump shot from  ft.  L. James makes 2pt layup from  ft assist by M. Dellavedova.  Turnover by J. Noah  sec.  N. Miroti enters the game for J. Noah.  Turnover by M. Dellavedova lost ball.  steal by D. Rose.  E. Moore makes 2pt layup from  ft assist by D. Rose.  J. Cunningham misses 2pt dunk at rim block by T. Gibson.  Defensive rebound by E. Moore.  N. Miroti misses 2pt jump shot from  ft block by J. Jones.  Offensive rebound by Team.  J. Butler makes 2pt jump shot from  ft.  T. Thompson misses 2pt jump shot from  ft.  Offensive rebound by Team.  End of 1st quarter',\n",
       " 'Defensive rebound by T. Gibson.  D. Rose makes 2pt jump shot from  ft.  Personal foul by T. Snell drawn by K. Love.  J. Smith enters the game for J. Cunningham.  M. Williams makes 3pt jump shot from  ft assist by J. Smith.  T. Snell makes 2pt jump shot from  ft.  M. Williams makes 2pt layup from  ft assist by L. James.  J. Butler misses 3pt jump shot from  ft.  Defensive rebound by T. Mozgov.  Shooting foul by T. Snell drawn by L. James.  L. James misses free throw  of .  Offensive rebound by Team.  E. Moore enters the game for T. Snell.  L. James misses free throw  of .  Defensive rebound by T. Gibson.  D. Rose misses 2pt layup from  ft block by T. Mozgov.  Defensive rebound by L. James.  L. James misses 2pt layup from  ft.  Defensive rebound by T. Gibson.  D. Rose misses 2pt layup from  ft.  Offensive rebound by J. Butler.  J. Butler makes 2pt layup from  ft.  T. Mozgov misses 2pt jump shot from  ft block by P. Gasol.  Offensive rebound by Team.  Loose ball foul by T. Gibson drawn by K. Love.  A. Brooks enters the game for D. Rose.  K. Love misses 2pt layup from  ft block by T. Gibson.  Defensive rebound by T. Gibson.  P. Gasol misses 2pt jump shot from  ft.  Defensive rebound by L. James.  L. James misses 3pt jump shot from  ft.  Offensive rebound by K. Love.  L. James misses 2pt layup from  ft block by J. Butler.  Defensive rebound by E. Moore.  J. Butler misses 2pt jump shot from  ft.  Defensive rebound by J. Smith.  Shooting foul by T. Gibson drawn by T. Mozgov.  Cleveland full timeout.  N. Miroti enters the game for T. Gibson.  T. Mozgov misses free throw  of .  Offensive rebound by Team.  T. Mozgov makes free throw  of .  J. Butler misses 3pt jump shot from  ft.  Offensive rebound by Team.  Loose ball foul by T. Mozgov drawn by P. Gasol.  A. Brooks makes 2pt jump shot from  ft.  J. Smith misses 2pt jump shot from  ft.  Defensive rebound by A. Brooks.  Turnover by N. Miroti lost ball.  steal by J. Smith.  L. James makes 2pt layup from  ft assist by M. Williams.  Personal foul by T. Mozgov drawn by P. Gasol.  J. Butler misses 2pt jump shot from  ft.  Defensive rebound by K. Love.  Personal foul by E. Moore drawn by L. James.  L. James misses free throw  of .  Offensive rebound by Team.  T. Snell enters the game for E. Moore.  Turnover by T. Mozgov lane violation..  Offensive foul by N. Miroti drawn by M. Williams.  Turnover by N. Miroti offensive foul.  J. Smith misses 2pt jump shot from  ft.  Defensive rebound by T. Snell.  Offensive charge foul by N. Miroti drawn by T. Mozgov.  Chicago full timeout.  D. Rose enters the game for A. Brooks.  J. Noah enters the game for N. Miroti.  A. Varejo enters the game for T. Mozgov.  Turnover by N. Miroti offensive foul.  J. Smith misses 2pt jump shot from  ft.  Offensive rebound by A. Varejo.  M. Williams makes 3pt jump shot from  ft assist by J. Smith.  D. Rose makes 2pt layup at rim.  M. Williams misses 3pt jump shot from  ft.  Defensive rebound by P. Gasol.  R. Jefferson enters the game for L. James.  A. Varejo makes free throw  of .  D. McDermott enters the game for J. Butler.  M. Dellavedova enters the game for J. Smith.  A. Varejo makes free throw  of .  Loose ball foul by J. Noah drawn by A. Varejo.  Defensive rebound by Team.  T. Snell misses 3pt jump shot from  ft.  T. Snell misses 3pt jump shot from  ft.  Defensive rebound by M. Williams.  M. Williams misses 2pt jump shot from  ft.  Defensive rebound by J. Noah.  Turnover by T. Snell lost ball.  steal by R. Jefferson.  R. Jefferson makes 2pt layup from  ft assist by K. Love.  D. Rose misses 2pt layup from  ft.  Offensive rebound by J. Noah.  Personal foul by M. Dellavedova drawn by J. Noah.  T. Snell makes 3pt jump shot from  ft assist by J. Noah.  L. James enters the game for M. Williams.  Cleveland full timeout.  K. Love misses 3pt jump shot from  ft.  Defensive rebound by D. McDermott.  D. Rose misses 2pt jump shot from  ft.  Defensive rebound by A. Varejo.  K. Love makes 3pt jump shot from  ft assist by M. Dellavedova.  D. McDermott makes 2pt jump shot from  ft.  K. Love misses 3pt jump shot from  ft.  Defensive rebound by D. McDermott.  T. Thompson enters the game for K. Love.  T. Gibson enters the game for P. Gasol.  J. Butler enters the game for T. Snell.  J. Noah misses free throw  of .  Offensive rebound by Team.  J. Noah misses free throw  of .  Shooting foul by A. Varejo drawn by J. Noah.  Offensive rebound by T. Gibson.  Turnover by T. Gibson bad pass.  M. Dellavedova makes 2pt jump shot from  ft assist by R. Jefferson.  D. McDermott makes 3pt jump shot from  ft assist by J. Butler.  R. Jefferson misses 2pt jump shot from  ft.  Defensive rebound by J. Noah.  T. Gibson misses 2pt jump shot from  ft.  Defensive rebound by M. Dellavedova.  L. James misses 3pt jump shot from  ft.  Defensive rebound by T. Gibson.  D. McDermott makes 2pt jump shot from  ft assist by J. Noah.  L. James makes 3pt jump shot from  ft.  D. McDermott misses 3pt jump shot from  ft.  Offensive rebound by Team.  End of 2nd quarter',\n",
       " 'Turnover by D. Rose bad pass.  steal by L. James.  Turnover by L. James bad pass.  steal by P. Gasol.  T. Snell makes 2pt jump shot from  ft.  L. James makes 2pt layup from  ft assist by M. Williams.  N. Miroti makes 3pt jump shot from  ft assist by D. Rose.  K. Love makes 2pt jump shot from  ft assist by M. Williams.  D. Rose makes 2pt layup from  ft.  Shooting foul by M. Williams drawn by D. Rose.  D. Rose misses free throw  of .  Defensive rebound by J. Smith.  T. Mozgov makes 2pt dunk at rim assist by K. Love.  P. Gasol makes 2pt jump shot from  ft assist by D. Rose.  K. Love misses 2pt layup from  ft.  Defensive rebound by N. Miroti.  D. Rose misses 3pt jump shot from  ft.  Defensive rebound by L. James.  J. Smith misses 3pt jump shot from  ft.  Defensive rebound by N. Miroti.  D. Rose makes 2pt jump shot from  ft.  Shooting foul by M. Williams drawn by D. Rose.  D. Rose makes free throw  of .  Turnover by K. Love bad pass.  steal by N. Miroti.  T. Snell makes 3pt jump shot from  ft assist by D. Rose.  Cleveland full timeout.  J. Smith makes 2pt layup from  ft.  T. Snell misses 3pt jump shot from  ft.  Defensive rebound by T. Mozgov.  Shooting foul by P. Gasol drawn by J. Smith.  J. Smith misses free throw  of .  Offensive rebound by Team.  J. Smith misses free throw  of .  Defensive rebound by N. Miroti.  P. Gasol misses 2pt jump shot from  ft.  Defensive rebound by L. James.  Personal foul by J. Butler drawn by K. Love.  Turnover by T. Mozgov  sec.  T. Snell misses 2pt jump shot from  ft block by K. Love.  Offensive rebound by Team.  Turnover by D. Rose bad pass.  J. Smith makes 2pt jump shot from  ft.  D. Rose makes 2pt jump shot from  ft.  M. Williams misses 2pt jump shot from  ft.  Defensive rebound by D. Rose.  D. Rose misses 2pt jump shot from  ft.  Defensive rebound by L. James.  Shooting foul by N. Miroti drawn by K. Love.  K. Love makes 2pt layup from  ft assist by T. Mozgov.  M. Dellavedova enters the game for M. Williams.  A. Brooks enters the game for D. Rose.  T. Gibson enters the game for N. Miroti.  K. Love makes free throw  of .  T. Thompson enters the game for K. Love.  J. Butler misses 2pt jump shot from  ft.  Offensive rebound by Team.  P. Gasol misses 2pt hook shot from  ft.  Defensive rebound by T. Thompson.  M. Dellavedova misses 3pt jump shot from  ft.  Defensive rebound by T. Snell.  A. Brooks makes 2pt jump shot from  ft.  J. Smith misses 2pt jump shot from  ft.  Defensive rebound by T. Gibson.  Turnover by A. Brooks bad pass.  D. McDermott enters the game for T. Snell.  R. Jefferson enters the game for L. James.  M. Dellavedova makes 2pt jump shot from  ft assist by T. Mozgov.  A. Brooks makes 2pt jump shot from  ft.  T. Mozgov misses 2pt jump shot from  ft.  Defensive rebound by T. Gibson.  A. Brooks misses 2pt jump shot from  ft.  Defensive rebound by J. Smith.  Personal foul by A. Brooks drawn by J. Smith.  A. Varejo enters the game for T. Mozgov.  J. Noah enters the game for P. Gasol.  E. Moore enters the game for J. Butler.  R. Jefferson misses 3pt jump shot from  ft.  Defensive rebound by J. Noah.  E. Moore makes 2pt jump shot from  ft.  M. Dellavedova misses 3pt jump shot from  ft.  Offensive rebound by M. Dellavedova.  R. Jefferson makes 3pt jump shot from  ft assist by J. Smith.  E. Moore makes 2pt jump shot from  ft.  J. Smith makes 2pt layup from  ft assist by M. Dellavedova.  Offensive foul by T. Gibson drawn by M. Dellavedova.  Turnover by T. Gibson offensive foul.  Chicago full timeout.  M. Williams enters the game for J. Smith.  R. Jefferson makes 2pt layup from  ft assist by M. Williams.  A. Brooks misses 2pt jump shot from  ft.  Defensive rebound by T. Thompson.  Defensive rebound by J. Noah.  Personal foul by T. Thompson drawn by J. Noah.  R. Jefferson misses 3pt jump shot from  ft.  A. Brooks misses 2pt jump shot from  ft.  Defensive rebound by T. Thompson.  M. Williams makes 2pt jump shot from  ft.  E. Moore misses 2pt jump shot from  ft block by A. Varejo.  Defensive rebound by Team.  Shooting foul by E. Moore drawn by M. Williams.  M. Williams misses free throw  of .  Offensive rebound by Team.  M. Williams makes free throw  of .  M. Williams makes free throw  of .  Turnover by A. Brooks bad pass.  steal by M. Williams.  End of 3rd quarter',\n",
       " 'Defensive rebound by T. Thompson.  M. Williams makes 3pt jump shot from  ft assist by M. Dellavedova.  A. Brooks misses 3pt jump shot from  ft.  Defensive rebound by M. Williams.  M. Williams misses 3pt jump shot from  ft.  Defensive rebound by T. Gibson.  A. Brooks misses 2pt jump shot from  ft.  Defensive rebound by T. Thompson.  M. Dellavedova misses 2pt jump shot from  ft.  Defensive rebound by J. Noah.  E. Moore makes 3pt jump shot from  ft assist by J. Noah.  A. Varejo misses 2pt jump shot from  ft.  Defensive rebound by D. McDermott.  D. McDermott misses free throw  of .  D. Rose enters the game for A. Brooks.  J. Butler enters the game for E. Moore.  D. McDermott makes free throw  of .  K. Love enters the game for A. Varejo.  L. James enters the game for M. Dellavedova.  Shooting foul by R. Jefferson drawn by D. McDermott.  Defensive rebound by T. Thompson.  K. Love misses 3pt jump shot from  ft block by T. Gibson.  Offensive rebound by T. Thompson.  Turnover by Team shot clock.  T. Gibson makes 2pt jump shot from  ft assist by J. Noah.  Turnover by R. Jefferson bad pass.  Chicago full timeout.  P. Gasol enters the game for J. Noah.  J. Smith enters the game for R. Jefferson.  P. Gasol misses 2pt jump shot from  ft.  Defensive rebound by L. James.  L. James makes 2pt layup from  ft.  P. Gasol misses 3pt jump shot from  ft.  Defensive rebound by T. Thompson.  L. James makes 2pt jump shot from  ft.  Chicago full timeout.  J. Butler misses 2pt jump shot from  ft.  Defensive rebound by J. Smith.  L. James misses 3pt jump shot from  ft.  Defensive rebound by P. Gasol.  Shooting foul by T. Thompson drawn by D. Rose.  D. Rose misses free throw  of .  Offensive rebound by Team.  T. Snell enters the game for D. McDermott.  D. Rose makes free throw  of .  N. Miroti enters the game for T. Gibson.  J. Smith makes free throw  of .  Shooting foul by T. Gibson drawn by J. Smith.  J. Smith makes free throw  of .  J. Butler makes 2pt jump shot from  ft.  M. Williams makes 2pt jump shot from  ft assist by K. Love.  Personal foul by J. Smith drawn by J. Butler.  D. Rose makes 2pt jump shot from  ft.  T. Thompson makes 2pt dunk at rim assist by M. Williams.  D. Rose misses 2pt layup from  ft block by K. Love.  Defensive rebound by K. Love.  L. James makes 2pt jump shot from  ft.  N. Miroti makes 2pt jump shot from  ft.  Shooting foul by T. Thompson drawn by N. Miroti.  N. Miroti makes free throw  of .  K. Love misses 2pt layup from  ft block by P. Gasol.  Defensive rebound by N. Miroti.  Technical foul by J. Smith.  J. Butler makes technical free throw.  N. Miroti makes free throw  of .  N. Miroti makes free throw  of .  Personal foul by J. Smith drawn by N. Miroti.  L. James makes 2pt jump shot from  ft.  J. Butler makes 2pt dunk at rim.  J. Smith misses 2pt layup from  ft block by P. Gasol.  Defensive rebound by N. Miroti.  T. Gibson enters the game for P. Gasol.  T. Snell makes free throw  of .  T. Snell misses free throw  of .  M. Dellavedova enters the game for J. Smith.  Cleveland full timeout.  Shooting foul by L. James drawn by T. Snell.  Offensive rebound by N. Miroti.  Offensive foul by T. Gibson drawn by T. Thompson.  Turnover by T. Gibson offensive foul.  Personal foul by T. Snell drawn by M. Williams.  Personal foul by T. Snell drawn by M. Williams.  M. Williams misses 2pt jump shot from  ft.  Defensive rebound by N. Miroti.  D. Rose misses 2pt jump shot from  ft.  Defensive rebound by T. Thompson.  L. James misses 3pt jump shot from  ft.  Defensive rebound by J. Butler.  D. Rose makes 2pt jump shot from  ft.  M. Dellavedova misses 2pt jump shot from  ft.  Offensive rebound by Team.  M. Dellavedova makes 2pt layup from  ft assist by L. James.  N. Miroti misses 3pt jump shot from  ft.  Defensive rebound by M. Dellavedova.  M. Williams misses 3pt jump shot from  ft.  Offensive rebound by T. Thompson.  Turnover by K. Love step out of bounds.  Personal foul by L. James drawn by J. Butler.  J. Butler makes free throw  of .  J. Butler makes free throw  of .  Loose ball foul by T. Gibson drawn by L. James.  Cleveland full timeout.  P. Gasol enters the game for T. Gibson.  K. Love misses 2pt layup from  ft block by P. Gasol.  K. Love makes free throw  of .  K. Love makes free throw  of .  Shooting foul by N. Miroti drawn by K. Love.  Offensive rebound by K. Love.  J. Butler makes 2pt jump shot from  ft assist by D. Rose.  K. Love makes 3pt jump shot from  ft assist by L. James.  N. Miroti misses 2pt jump shot from  ft.  Defensive rebound by M. Dellavedova.  K. Love makes 3pt jump shot from  ft assist by L. James.  D. Rose misses 2pt jump shot from  ft.  Defensive rebound by T. Thompson.  Cleveland full timeout.  L. James misses 2pt layup from  ft block by P. Gasol.  Offensive rebound by Team.  Cleveland full timeout.  Turnover by M. Williams bad pass.  steal by J. Butler.  End of 4th quarter.  End of Game']"
      ]
     },
     "execution_count": 113,
     "metadata": {},
     "output_type": "execute_result"
    }
   ],
   "source": [
    "plays = df[\"CleanGameText\"].iloc[0:4].tolist()\n",
    "\n",
    "plays"
   ]
  },
  {
   "cell_type": "markdown",
   "metadata": {},
   "source": [
    "Plays must be in a list format"
   ]
  },
  {
   "cell_type": "code",
   "execution_count": null,
   "metadata": {},
   "outputs": [],
   "source": []
  },
  {
   "cell_type": "code",
   "execution_count": 107,
   "metadata": {},
   "outputs": [],
   "source": [
    "summary = cluster_and_summarize(plays, num_clusters=3)"
   ]
  },
  {
   "cell_type": "code",
   "execution_count": null,
   "metadata": {},
   "outputs": [],
   "source": []
  },
  {
   "cell_type": "code",
   "execution_count": null,
   "metadata": {},
   "outputs": [],
   "source": []
  },
  {
   "cell_type": "code",
   "execution_count": 109,
   "metadata": {},
   "outputs": [
    {
     "data": {
      "text/plain": [
       "'Turnover by D. Rose bad pass.  steal by L. James.  Turnover by L. James bad pass.  steal by P. Gasol.'"
      ]
     },
     "execution_count": 109,
     "metadata": {},
     "output_type": "execute_result"
    }
   ],
   "source": [
    "summary"
   ]
  },
  {
   "cell_type": "code",
   "execution_count": null,
   "metadata": {},
   "outputs": [],
   "source": []
  },
  {
   "cell_type": "code",
   "execution_count": null,
   "metadata": {},
   "outputs": [],
   "source": []
  },
  {
   "cell_type": "code",
   "execution_count": null,
   "metadata": {},
   "outputs": [],
   "source": []
  },
  {
   "cell_type": "code",
   "execution_count": 6,
   "metadata": {},
   "outputs": [],
   "source": []
  },
  {
   "cell_type": "code",
   "execution_count": null,
   "metadata": {},
   "outputs": [],
   "source": []
  },
  {
   "cell_type": "markdown",
   "metadata": {},
   "source": [
    "THis takes too long"
   ]
  },
  {
   "cell_type": "code",
   "execution_count": 2,
   "metadata": {},
   "outputs": [
    {
     "name": "stderr",
     "output_type": "stream",
     "text": [
      "/Users/gavingalusha/NLP/ggalusha/project/project-NBA/nlp-virtual/lib/python3.10/site-packages/tqdm/auto.py:21: TqdmWarning: IProgress not found. Please update jupyter and ipywidgets. See https://ipywidgets.readthedocs.io/en/stable/user_install.html\n",
      "  from .autonotebook import tqdm as notebook_tqdm\n"
     ]
    }
   ],
   "source": []
  },
  {
   "cell_type": "code",
   "execution_count": null,
   "metadata": {},
   "outputs": [],
   "source": [
    "df"
   ]
  },
  {
   "cell_type": "code",
   "execution_count": null,
   "metadata": {},
   "outputs": [],
   "source": []
  }
 ],
 "metadata": {
  "kernelspec": {
   "display_name": "nlp-virtual",
   "language": "python",
   "name": "python3"
  },
  "language_info": {
   "codemirror_mode": {
    "name": "ipython",
    "version": 3
   },
   "file_extension": ".py",
   "mimetype": "text/x-python",
   "name": "python",
   "nbconvert_exporter": "python",
   "pygments_lexer": "ipython3",
   "version": "3.10.9"
  }
 },
 "nbformat": 4,
 "nbformat_minor": 2
}
